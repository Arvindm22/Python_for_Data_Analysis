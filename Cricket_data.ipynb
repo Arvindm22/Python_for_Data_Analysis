{
 "cells": [
  {
   "cell_type": "code",
   "execution_count": 2,
   "id": "5c374f82",
   "metadata": {},
   "outputs": [],
   "source": [
    "import numpy as np"
   ]
  },
  {
   "cell_type": "markdown",
   "id": "05c4e1a9",
   "metadata": {},
   "source": [
    "## <span style='color:Black'> Loading data from the file into a numpy array.</span>\n"
   ]
  },
  {
   "cell_type": "code",
   "execution_count": 3,
   "id": "77e121e7",
   "metadata": {},
   "outputs": [],
   "source": [
    "scores = np.loadtxt('Cricket_Data.tsv', skiprows=1, usecols=[1,2,3])"
   ]
  },
  {
   "cell_type": "code",
   "execution_count": 4,
   "id": "df0c3506",
   "metadata": {},
   "outputs": [],
   "source": [
    "sachin_scores = np.copy(scores[:,0])"
   ]
  },
  {
   "cell_type": "markdown",
   "id": "d75efcc2",
   "metadata": {},
   "source": [
    "## <span style='color:Black'> 1. Mean, Median, IQR Of Sachin's Score </span>"
   ]
  },
  {
   "cell_type": "code",
   "execution_count": 5,
   "id": "24a2b0b0",
   "metadata": {},
   "outputs": [
    {
     "name": "stdout",
     "output_type": "stream",
     "text": [
      "Mean of Sachin: 39.87555555555556\n",
      "Median of Sachin: 27.0\n",
      "IQR of Sachin: 57.0\n"
     ]
    }
   ],
   "source": [
    "print(\"Mean of Sachin:\",np.mean(sachin_scores))\n",
    "print(\"Median of Sachin:\",np.median(sachin_scores))\n",
    "quartiles = np.percentile(sachin_scores,[25,75])\n",
    "iqr_sachin = quartiles[1]-quartiles[0]\n",
    "print(\"IQR of Sachin:\",iqr_sachin )"
   ]
  },
  {
   "cell_type": "markdown",
   "id": "e6129d8c",
   "metadata": {},
   "source": [
    "## <span style='color:Black'> 2.Mean, Median, IQR of Dravid's Score</span>"
   ]
  },
  {
   "cell_type": "code",
   "execution_count": 6,
   "id": "a894eee6",
   "metadata": {},
   "outputs": [],
   "source": [
    "dravid_scores = np.copy(scores[:,1])"
   ]
  },
  {
   "cell_type": "code",
   "execution_count": 7,
   "id": "23ec0933",
   "metadata": {},
   "outputs": [
    {
     "name": "stdout",
     "output_type": "stream",
     "text": [
      "Mean of Dravid: 32.062222222222225\n",
      "Median of Dravid: 22.0\n",
      "IQR of Dravid: 46.0\n"
     ]
    }
   ],
   "source": [
    "print(\"Mean of Dravid:\",np.mean(dravid_scores))\n",
    "print(\"Median of Dravid:\",np.median(dravid_scores))\n",
    "quartiles = np.percentile(dravid_scores,[25,75])\n",
    "iqr_dravid = quartiles[1]-quartiles[0]\n",
    "print(\"IQR of Dravid:\",iqr_dravid )"
   ]
  },
  {
   "cell_type": "markdown",
   "id": "dc8bd868",
   "metadata": {},
   "source": [
    "## <span style='color:Black'> 3.Mean, Median, IQR Of India's Score</span>\n"
   ]
  },
  {
   "cell_type": "code",
   "execution_count": 8,
   "id": "f2d5a944",
   "metadata": {},
   "outputs": [],
   "source": [
    "India_scores = np.copy(scores[:,2])"
   ]
  },
  {
   "cell_type": "code",
   "execution_count": 9,
   "id": "61ba4522",
   "metadata": {},
   "outputs": [
    {
     "name": "stdout",
     "output_type": "stream",
     "text": [
      "Mean of India: 220.79555555555555\n",
      "Median of India: 216.0\n",
      "IQR of India: 98.0\n"
     ]
    }
   ],
   "source": [
    "print(\"Mean of India:\",np.mean(India_scores))\n",
    "print(\"Median of India:\",np.median(India_scores))\n",
    "quartiles = np.percentile(India_scores,[25,75])\n",
    "iqr_India_scores = quartiles[1]-quartiles[0]\n",
    "print(\"IQR of India:\", iqr_India_scores)"
   ]
  },
  {
   "cell_type": "markdown",
   "id": "7e838eb2",
   "metadata": {},
   "source": [
    "## <span style='color:Black'>4.Histogram of Sachin Scores with 10 bins</span>"
   ]
  },
  {
   "cell_type": "code",
   "execution_count": 17,
   "id": "001a5301",
   "metadata": {
    "collapsed": true
   },
   "outputs": [
    {
     "name": "stdout",
     "output_type": "stream",
     "text": [
      "(array([100,  40,  24,  17,  18,  11,   7,   7,   0,   1], dtype=int64), array([  0,  20,  40,  60,  80, 100, 120, 140, 160, 180, 200]))\n"
     ]
    }
   ],
   "source": [
    "print(np.histogram(sachin_scores,bins=[0,20,40,60,80,100,120,140,160,180,200]))"
   ]
  },
  {
   "cell_type": "markdown",
   "id": "b2ae0c5e",
   "metadata": {},
   "source": [
    "## <span style='color:Black'>5.Mean of Sachin Scores grouped by 25 matches</span>"
   ]
  },
  {
   "cell_type": "code",
   "execution_count": 71,
   "id": "73073896",
   "metadata": {
    "collapsed": true
   },
   "outputs": [
    {
     "name": "stdout",
     "output_type": "stream",
     "text": [
      "Mean of Sachin Scores grouped by 25 matches: [33.96, 49.4, 38.48, 40.16, 39.36, 38.2, 44.6, 39.52, 35.2]\n",
      "Mean of Sachin Scores grouped by 25 matches: [33.96 49.4  38.48 40.16 39.36 38.2  44.6  39.52 35.2 ]\n"
     ]
    }
   ],
   "source": [
    "group = sachin_scores.reshape(9,25)\n",
    "mean = list();\n",
    "for i in range(0,9):\n",
    "       mean.append(np.mean(group[i][0:25]))\n",
    "print(\"Mean of Sachin Scores grouped by 25 matches:\",mean)\n",
    "\n",
    "#Alternate method\n",
    "\n",
    "print(\"Mean of Sachin Scores grouped by 25 matches:\",np.mean(group,axis=1))\n",
    "        \n"
   ]
  },
  {
   "cell_type": "markdown",
   "id": "d066ac40",
   "metadata": {},
   "source": [
    "## <span style='color:Black'> 6.Mean of Sachin Scores where he has scored a century</span>\n"
   ]
  },
  {
   "cell_type": "code",
   "execution_count": 42,
   "id": "094906ab",
   "metadata": {
    "collapsed": true
   },
   "outputs": [
    {
     "name": "stdout",
     "output_type": "stream",
     "text": [
      "125.0\n"
     ]
    }
   ],
   "source": [
    "print(np.mean(sachin_scores[sachin_scores >= 100]))"
   ]
  },
  {
   "cell_type": "markdown",
   "id": "28b41399",
   "metadata": {},
   "source": [
    "## <span style='color:Black'> 7.Mean of Sachin Scores when Dravid has scored less than 10</span>"
   ]
  },
  {
   "cell_type": "code",
   "execution_count": 44,
   "id": "25ffcc61",
   "metadata": {
    "collapsed": true
   },
   "outputs": [
    {
     "name": "stdout",
     "output_type": "stream",
     "text": [
      "40.2112676056338\n"
     ]
    }
   ],
   "source": [
    "print(np.mean(sachin_scores[dravid_scores <= 10]))"
   ]
  },
  {
   "cell_type": "markdown",
   "id": "dcd83d31",
   "metadata": {},
   "source": [
    "## <span style='color:Black'> 8.Mean of Sachin Scores based on India's Quartiles</span>"
   ]
  },
  {
   "cell_type": "code",
   "execution_count": 70,
   "id": "1eb41c4f",
   "metadata": {
    "collapsed": true
   },
   "outputs": [
    {
     "name": "stdout",
     "output_type": "stream",
     "text": [
      "19.672727272727272\n",
      "28.18018018018018\n",
      "31.688622754491018\n",
      "39.799107142857146\n"
     ]
    }
   ],
   "source": [
    "ind_quartiles = np.percentile(India_scores,[25,50,75,100])\n",
    "for i in range(0,4):\n",
    "    print(np.mean(sachin_scores[India_scores < ind_quartiles[i]]))"
   ]
  },
  {
   "cell_type": "markdown",
   "id": "53bdc003",
   "metadata": {},
   "source": [
    "## <span style='color:Black'> 9.No of matches Sachin took to score first 1000 runs and so on</span>"
   ]
  },
  {
   "cell_type": "code",
   "execution_count": 13,
   "id": "49186c1a",
   "metadata": {},
   "outputs": [
    {
     "name": "stdout",
     "output_type": "stream",
     "text": [
      "(array([29, 18, 26, 25, 26, 26, 23, 22, 30,  0], dtype=int64), array([    0,  1000,  2000,  3000,  4000,  5000,  6000,  7000,  8000,\n",
      "        9000, 10000]))\n"
     ]
    }
   ],
   "source": [
    "sachin_cummulative_scores = np.cumsum(sachin_scores)\n",
    "print(np.histogram(sachin_cummulative_scores,bins = [0,1000,2000,3000,4000,5000,6000,7000,8000,9000,10000]))"
   ]
  },
  {
   "cell_type": "markdown",
   "id": "cd76ad16",
   "metadata": {},
   "source": [
    "## <span style='color:Black'> 10.Comparison between Sachin and Dravid for every match</span>"
   ]
  },
  {
   "cell_type": "code",
   "execution_count": 14,
   "id": "bec4eb3e",
   "metadata": {},
   "outputs": [
    {
     "name": "stdout",
     "output_type": "stream",
     "text": [
      "['Sachin' 'Rahul' 'Rahul' 'Sachin' 'Sachin' 'Rahul' 'Rahul' 'Sachin'\n",
      " 'Rahul' 'Sachin' 'Rahul' 'Rahul' 'Rahul' 'Sachin' 'Sachin' 'Rahul'\n",
      " 'Rahul' 'Rahul' 'Rahul' 'Rahul' 'Sachin' 'Rahul' 'Sachin' 'Sachin'\n",
      " 'Rahul' 'Sachin' 'Sachin' 'Rahul' 'Sachin' 'Sachin' 'Sachin' 'Sachin'\n",
      " 'Rahul' 'Rahul' 'Sachin' 'Rahul' 'Rahul' 'Sachin' 'Rahul' 'Sachin'\n",
      " 'Sachin' 'Sachin' 'Sachin' 'Rahul' 'Sachin' 'Rahul' 'Rahul' 'Sachin'\n",
      " 'Rahul' 'Sachin' 'Rahul' 'Rahul' 'Rahul' 'Rahul' 'Sachin' 'Rahul'\n",
      " 'Sachin' 'Sachin' 'Rahul' 'Rahul' 'Rahul' 'Sachin' 'Rahul' 'Sachin'\n",
      " 'Sachin' 'Sachin' 'Sachin' 'Rahul' 'Sachin' 'Rahul' 'Rahul' 'Sachin'\n",
      " 'Sachin' 'Rahul' 'Rahul' 'Sachin' 'Rahul' 'Rahul' 'Sachin' 'Rahul'\n",
      " 'Rahul' 'Rahul' 'Rahul' 'Rahul' 'Rahul' 'Sachin' 'Sachin' 'Sachin'\n",
      " 'Rahul' 'Sachin' 'Sachin' 'Sachin' 'Rahul' 'Sachin' 'Sachin' 'Rahul'\n",
      " 'Rahul' 'Sachin' 'Rahul' 'Sachin' 'Rahul' 'Rahul' 'Rahul' 'Rahul' 'Rahul'\n",
      " 'Sachin' 'Rahul' 'Rahul' 'Sachin' 'Rahul' 'Rahul' 'Sachin' 'Rahul'\n",
      " 'Sachin' 'Rahul' 'Sachin' 'Sachin' 'Sachin' 'Rahul' 'Sachin' 'Rahul'\n",
      " 'Sachin' 'Sachin' 'Sachin' 'Sachin' 'Rahul' 'Sachin' 'Rahul' 'Rahul'\n",
      " 'Sachin' 'Sachin' 'Rahul' 'Sachin' 'Rahul' 'Sachin' 'Sachin' 'Sachin'\n",
      " 'Rahul' 'Sachin' 'Sachin' 'Rahul' 'Rahul' 'Rahul' 'Sachin' 'Sachin'\n",
      " 'Sachin' 'Sachin' 'Rahul' 'Sachin' 'Rahul' 'Sachin' 'Sachin' 'Sachin'\n",
      " 'Sachin' 'Rahul' 'Rahul' 'Rahul' 'Sachin' 'Rahul' 'Sachin' 'Rahul'\n",
      " 'Sachin' 'Rahul' 'Sachin' 'Sachin' 'Rahul' 'Sachin' 'Rahul' 'Rahul'\n",
      " 'Sachin' 'Sachin' 'Rahul' 'Sachin' 'Sachin' 'Sachin' 'Sachin' 'Rahul'\n",
      " 'Sachin' 'Rahul' 'Rahul' 'Sachin' 'Sachin' 'Sachin' 'Sachin' 'Rahul'\n",
      " 'Rahul' 'Rahul' 'Sachin' 'Rahul' 'Rahul' 'Rahul' 'Rahul' 'Sachin' 'Rahul'\n",
      " 'Rahul' 'Sachin' 'Rahul' 'Rahul' 'Sachin' 'Rahul' 'Sachin' 'Sachin'\n",
      " 'Rahul' 'Rahul' 'Sachin' 'Rahul' 'Rahul' 'Rahul' 'Sachin' 'Sachin'\n",
      " 'Sachin' 'Rahul' 'Rahul' 'Sachin' 'Rahul' 'Sachin' 'Rahul' 'Rahul'\n",
      " 'Rahul' 'Rahul' 'Sachin' 'Sachin' 'Rahul' 'Sachin' 'Sachin']\n"
     ]
    }
   ],
   "source": [
    "greater_score = sachin_scores > dravid_scores\n",
    "print(np.where(greater_score == True, 'Sachin', 'Rahul'))"
   ]
  }
 ],
 "metadata": {
  "kernelspec": {
   "display_name": "Python 3 (ipykernel)",
   "language": "python",
   "name": "python3"
  },
  "language_info": {
   "codemirror_mode": {
    "name": "ipython",
    "version": 3
   },
   "file_extension": ".py",
   "mimetype": "text/x-python",
   "name": "python",
   "nbconvert_exporter": "python",
   "pygments_lexer": "ipython3",
   "version": "3.9.7"
  }
 },
 "nbformat": 4,
 "nbformat_minor": 5
}
